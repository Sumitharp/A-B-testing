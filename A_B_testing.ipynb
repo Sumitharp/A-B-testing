{
 "cells": [
  {
   "cell_type": "markdown",
   "metadata": {},
   "source": [
    "# A/B Testing\n",
    "## *A/B testing is a basic randomised control experiment. It compares two versions of a variable to find out which performs better in a controlled exp.* \n",
    "\n",
    " A company wants to increase traffic (i.e conversion rate) on it website by changing the newsletter. We divide the newsletter into 2 parts A and B where A will remain unchanged and B's newsletter has significant changes.<p>\n",
    "On basis of performance of the two groups we decide which is performing better. *Population refers to entire traffic on the website, and sample is the number of customers that participated on the test*\n",
    "### Steps:\n",
    "1. Make Hypothesis: Educted guess -- insight into natural world. This is testable by experiment or observation. In this example : By changing newsletter we will get more traffic on to our website\n",
    "    a) **Null Hypothesis** -- H0 -- States that sample observations are purely by chance. There is no difference in the results from A(Control group) and B(test group)\n",
    "\n",
    "    b) **Alternative Hypothesis** -- Ha -- This challenges the null hypothesis.. and that which we believe to be true. In this case, the changes in newsletter will bring more traffic to the website.\n",
    "\n",
    "    We have to collect enough data to reject null hypothesis\n",
    "\n",
    " "
   ]
  },
  {
   "cell_type": "markdown",
   "metadata": {},
   "source": []
  }
 ],
 "metadata": {
  "language_info": {
   "name": "python"
  },
  "orig_nbformat": 4
 },
 "nbformat": 4,
 "nbformat_minor": 2
}
